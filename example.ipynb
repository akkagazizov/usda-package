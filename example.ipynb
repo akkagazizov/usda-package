{
 "cells": [
  {
   "cell_type": "markdown",
   "metadata": {},
   "source": [
    "# Quickstart\n",
    "This jupyter notebook gives a good introduction in how to get started with USDA\n",
    "\n",
    "Firts, make sure that:\n",
    "- pip install pipenv\n",
    "- pipenv install\n",
    "- pipenv shell\n",
    "\n",
    "Let's get started with some simple example."
   ]
  },
  {
   "cell_type": "code",
   "execution_count": 23,
   "metadata": {},
   "outputs": [],
   "source": [
    "# Import standart library\n",
    "from pathlib import Path\n",
    "\n",
    "# Our USDA python package\n",
    "# from usda.api.services import FASService, MARSService, NASSService\n",
    "from src.usda.api.services import FASService, MARSService, NASSService"
   ]
  },
  {
   "cell_type": "markdown",
   "metadata": {},
   "source": [
    "Definition: \n",
    "- ROOT project direction path\n",
    "- Path save data from API"
   ]
  },
  {
   "cell_type": "code",
   "execution_count": 24,
   "metadata": {},
   "outputs": [],
   "source": [
    "ROOT_DIR_PATH = Path(__name__).absolute().parent\n",
    "PATH_TO_SAVE_DATA = ROOT_DIR_PATH / \"data\""
   ]
  },
  {
   "cell_type": "markdown",
   "metadata": {},
   "source": [
    "Setting all configuration about each API services\n",
    "- FAS (Foreign Agricultural Service)\n",
    "- MARS (Agricultural Marketing Service)\n",
    "- NASS (National Agricultural Statistics Service)"
   ]
  },
  {
   "cell_type": "code",
   "execution_count": 25,
   "metadata": {},
   "outputs": [],
   "source": [
    "# API_KEY taken after registering on each website\n",
    "SETTINGS = {\n",
    "    \"fas\": {\n",
    "        \"api_key\": \"api_key\",\n",
    "        \"url\": \"https://apps.fas.usda.gov/OpenData/swagger/docs/v1\",\n",
    "    },\n",
    "    \"mars\": {\n",
    "        \"api_key\": \"api_key\",\n",
    "        \"url\": \"https://marsapi.ams.usda.gov/services/v1.2\",\n",
    "    },\n",
    "    \"nass\": {\n",
    "        \"api_key\": \"api_key\",\n",
    "        \"url\": \"http://quickstats.nass.usda.gov/api\",\n",
    "    },\n",
    "}"
   ]
  },
  {
   "cell_type": "markdown",
   "metadata": {},
   "source": [
    "Initializing instances of API services"
   ]
  },
  {
   "cell_type": "code",
   "execution_count": 26,
   "metadata": {},
   "outputs": [],
   "source": [
    "# Init USDA APIs services\n",
    "nass = NASSService(SETTINGS[\"nass\"][\"api_key\"])\n",
    "fas = FASService(SETTINGS[\"fas\"][\"api_key\"])\n",
    "mars = MARSService(SETTINGS[\"mars\"][\"api_key\"])"
   ]
  },
  {
   "cell_type": "markdown",
   "metadata": {},
   "source": [
    "Now, let's try to send GET HTTP request with passing parameters to the National Agricultural Statistics Service server"
   ]
  },
  {
   "cell_type": "code",
   "execution_count": 27,
   "metadata": {},
   "outputs": [
    {
     "name": "stdout",
     "output_type": "stream",
     "text": [
      "status code: 200\n",
      "url: http://quickstats.nass.usda.gov/api\n"
     ]
    }
   ],
   "source": [
    "# Send GET HTTP request to server and responce status code must be 200\n",
    "status_code = nass.get(params={\"commodity_desc\": \"CORN\", \"year__GE\": \"2018\", \"state_alpha\": \"VA\"})\n",
    "print(f\"status code: {status_code}\")\n",
    "print(f\"url: {nass.url}\")"
   ]
  },
  {
   "cell_type": "markdown",
   "metadata": {},
   "source": [
    "Now, let's get and print dataframe with information from API"
   ]
  },
  {
   "cell_type": "code",
   "execution_count": 28,
   "metadata": {},
   "outputs": [
    {
     "name": "stdout",
     "output_type": "stream",
     "text": [
      "  state_name                                    domaincat_desc watershed_desc  \\\n",
      "0   VIRGINIA            IRRIGATION METHOD, PRIMARY: (PRESSURE)                  \n",
      "1   VIRGINIA                                     NOT SPECIFIED                  \n",
      "2   VIRGINIA                            WATER SOURCE: (GROUND)                  \n",
      "3   VIRGINIA                   WATER SOURCE: (ON FARM SURFACE)                  \n",
      "4   VIRGINIA  AREA IRRIGATED, HARVESTED: (1,000 OR MORE ACRES)                  \n",
      "\n",
      "  util_practice_desc county_code week_ending source_desc sector_desc  \\\n",
      "0              GRAIN                              CENSUS       CROPS   \n",
      "1              GRAIN                              CENSUS       CROPS   \n",
      "2              GRAIN                              CENSUS       CROPS   \n",
      "3              GRAIN                              CENSUS       CROPS   \n",
      "4              GRAIN                              CENSUS       CROPS   \n",
      "\n",
      "  country_code congr_district_code  ... region_desc begin_code  \\\n",
      "0         9000                      ...                     00   \n",
      "1         9000                      ...                     00   \n",
      "2         9000                      ...                     00   \n",
      "3         9000                      ...                     00   \n",
      "4         9000                      ...                     00   \n",
      "\n",
      "  state_fips_code end_code   group_desc                 domain_desc  \\\n",
      "0              51       00  FIELD CROPS  IRRIGATION METHOD, PRIMARY   \n",
      "1              51       00  FIELD CROPS                       TOTAL   \n",
      "2              51       00  FIELD CROPS                WATER SOURCE   \n",
      "3              51       00  FIELD CROPS                WATER SOURCE   \n",
      "4              51       00  FIELD CROPS   AREA IRRIGATED, HARVESTED   \n",
      "\n",
      "  county_ansi                                         short_desc  \\\n",
      "0                       CORN, GRAIN, IRRIGATED - ACRES HARVESTED   \n",
      "1                       CORN, GRAIN, IRRIGATED - ACRES HARVESTED   \n",
      "2                       CORN, GRAIN, IRRIGATED - ACRES HARVESTED   \n",
      "3                       CORN, GRAIN, IRRIGATED - ACRES HARVESTED   \n",
      "4              CORN, GRAIN, IRRIGATED - OPERATIONS WITH AREA ...   \n",
      "\n",
      "  statisticcat_desc asd_desc  \n",
      "0    AREA HARVESTED           \n",
      "1    AREA HARVESTED           \n",
      "2    AREA HARVESTED           \n",
      "3    AREA HARVESTED           \n",
      "4    AREA HARVESTED           \n",
      "\n",
      "[5 rows x 39 columns]\n"
     ]
    }
   ],
   "source": [
    "df_nass = nass.get_dataframe()\n",
    "print(df_nass.head())"
   ]
  },
  {
   "cell_type": "markdown",
   "metadata": {},
   "source": [
    "Draw histogram sum Value CORNs from 2018 to 2022"
   ]
  },
  {
   "cell_type": "code",
   "execution_count": 29,
   "metadata": {},
   "outputs": [
    {
     "data": {
      "image/png": "[encoded data removed]",
      "text/plain": [
       "<Figure size 432x288 with 1 Axes>"
      ]
     },
     "metadata": {
      "needs_background": "light"
     },
     "output_type": "display_data"
    }
   ],
   "source": [
    "nass.plot(df_nass, x=\"year\", y=\"Value\")"
   ]
  },
  {
   "cell_type": "markdown",
   "metadata": {},
   "source": [
    "Save dataframe in the Excel file for the next analyzing"
   ]
  },
  {
   "cell_type": "code",
   "execution_count": 30,
   "metadata": {},
   "outputs": [
    {
     "name": "stdout",
     "output_type": "stream",
     "text": [
      "see: /home/boss/Dev/usda-package/data/NASSService.csv\n"
     ]
    }
   ],
   "source": [
    "path = nass.to_file(PATH_TO_SAVE_DATA, df_nass)\n",
    "print(f\"see: {path}\")"
   ]
  },
  {
   "cell_type": "markdown",
   "metadata": {},
   "source": [
    "Now, let's try to save information in Excel file by year each sheet"
   ]
  },
  {
   "cell_type": "code",
   "execution_count": 31,
   "metadata": {},
   "outputs": [],
   "source": [
    "# from usda.api.utils.merge_and_savefile\n",
    "from src.usda.api.utils.merge_and_savefile import merge_and_savefile"
   ]
  },
  {
   "cell_type": "markdown",
   "metadata": {},
   "source": [
    "Now, let's try to send GET HTTP request with passing parameters to the Foreign Agricultural Service server"
   ]
  },
  {
   "cell_type": "code",
   "execution_count": 32,
   "metadata": {},
   "outputs": [
    {
     "name": "stdout",
     "output_type": "stream",
     "text": [
      "status code: 200\n",
      "url: https://apps.fas.usda.gov/OpenData/api\n",
      "   commodityCode  countryCode  weeklyExports  accumulatedExports  \\\n",
      "0            401         1220           4376                4376   \n",
      "1            401         2010         385113              385113   \n",
      "2            401         2050              0                   0   \n",
      "3            401         2110              0                   0   \n",
      "4            401         2150          11278               11278   \n",
      "\n",
      "   outstandingSales  grossNewSales  currentMYNetSales  \\\n",
      "0             50858          17552              17552   \n",
      "1           4502810         455384             433369   \n",
      "2            181467           2000               2000   \n",
      "3             82186              0                  0   \n",
      "4             53628            900              12178   \n",
      "\n",
      "   currentMYTotalCommitment  nextMYOutstandingSales  nextMYNetSales  unitId  \\\n",
      "0                     55234                       0               0       1   \n",
      "1                   4887923                  135280               0       1   \n",
      "2                    181467                       0               0       1   \n",
      "3                     82186                       0               0       1   \n",
      "4                     64906                       0               0       1   \n",
      "\n",
      "        weekEndingDate  \n",
      "0  2017-09-07T00:00:00  \n",
      "1  2017-09-07T00:00:00  \n",
      "2  2017-09-07T00:00:00  \n",
      "3  2017-09-07T00:00:00  \n",
      "4  2017-09-07T00:00:00  \n"
     ]
    }
   ],
   "source": [
    "commodityCode = 401 # CORN\n",
    "year = 2018\n",
    "status_code = fas.get(endpoint=f\"/esr/exports/commodityCode/{commodityCode}/allCountries/marketYear/{year}\")\n",
    "print(f\"status code: {status_code}\")\n",
    "print(f\"url: {fas.url}\")\n",
    "\n",
    "df_fas = fas.get_dataframe()\n",
    "print(df_fas.head())"
   ]
  },
  {
   "cell_type": "markdown",
   "metadata": {},
   "source": [
    "Now, let's try to save information in Excel file by year each sheet"
   ]
  },
  {
   "cell_type": "code",
   "execution_count": 33,
   "metadata": {},
   "outputs": [],
   "source": [
    "# from usda.api.utils.merge_and_savefile\n",
    "from src.usda.api.utils.merge_and_savefile import merge_and_savefile\n",
    "\n",
    "merge_and_savefile(PATH_TO_SAVE_DATA, dfs={\"nass\": df_nass[df_nass[\"year\"] == 2018], \"fas\": df_fas}, year=2018)"
   ]
  }
 ],
 "metadata": {
  "kernelspec": {
   "display_name": "Python 3.10.4 ('.venv': pipenv)",
   "language": "python",
   "name": "python3"
  },
  "language_info": {
   "codemirror_mode": {
    "name": "ipython",
    "version": 3
   },
   "file_extension": ".py",
   "mimetype": "text/x-python",
   "name": "python",
   "nbconvert_exporter": "python",
   "pygments_lexer": "ipython3",
   "version": "3.10.4"
  },
  "orig_nbformat": 4,
  "vscode": {
   "interpreter": {
    "hash": "8332bc21f6f19c4ebcbb132ea002ec8dba962900c83825398728e03b2f81865c"
   }
  }
 },
 "nbformat": 4,
 "nbformat_minor": 2
}
